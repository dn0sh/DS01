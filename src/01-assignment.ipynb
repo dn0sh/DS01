{
 "cells": [
  {
   "cell_type": "markdown",
   "id": "fffcbb2c-4423-4f1c-bc90-e1ac7fbaa456",
   "metadata": {},
   "source": [
    "# Задания "
   ]
  },
  {
   "cell_type": "markdown",
   "id": "c2d747fe-7b74-43e0-95b3-16525e9846ac",
   "metadata": {},
   "source": [
    "## Task 1"
   ]
  },
  {
   "cell_type": "markdown",
   "id": "2e2f1076-fd27-4222-95e9-d3b7ff8ff36a",
   "metadata": {},
   "source": [
    "Напиши код, который будет решать квадратное уравнение вида\n",
    "$ ax^2 + bx + c = 0, a\\neq0$. \\\n",
    "Для этого понадобится найти дискриминант. Его формула $ D = b^2 − 4ac $"
   ]
  },
  {
   "cell_type": "markdown",
   "id": "67b24316",
   "metadata": {},
   "source": [
    "Для начала напиши формулу нахождения корней квадратного уравнения на языке LaTeX\n",
    "\n",
    "\\begin{equation}\n",
    "x = \\frac{-b \\pm \\sqrt{D}}{2a}\n",
    "\\end{equation}"
   ]
  },
  {
   "cell_type": "markdown",
   "id": "c78b058d-777d-4369-b86d-0c0fc013eba9",
   "metadata": {},
   "source": [
    "Теперь, когда ты вспомнил как находить корни, приступай к написанию функции:\n",
    "- Функция принимает на вход коэффициент a, b, c.\n",
    "- Функция должна возвращать кортеж корней уравнения. \n",
    "- Если корней у уравнения нет, то функция должна вернуть None"
   ]
  },
  {
   "cell_type": "code",
   "execution_count": 1,
   "id": "03b8b371-870b-42cc-8f53-1e8596406894",
   "metadata": {},
   "outputs": [],
   "source": [
    "def quadratic_equation(a, b, c):\n",
    "    d = b ** 2 - 4 * a * c\n",
    "    if d < 0:\n",
    "        return None\n",
    "    elif d == 0:\n",
    "        x = -b / (2 * a)\n",
    "        return [x]\n",
    "    else:\n",
    "        x1 = (-b + d ** 0.5) / (2 * a)\n",
    "        x2 = (-b - d ** 0.5) / (2 * a)\n",
    "        return [x1, x2]"
   ]
  },
  {
   "cell_type": "code",
   "execution_count": 2,
   "id": "e2d17149",
   "metadata": {},
   "outputs": [
    {
     "name": "stdout",
     "output_type": "stream",
     "text": [
      "[3.0, 2.0]\n"
     ]
    }
   ],
   "source": [
    "a, b, c = 1, -5, 6\n",
    "print(quadratic_equation(a, b, c))"
   ]
  },
  {
   "cell_type": "code",
   "execution_count": 3,
   "id": "c56ff447",
   "metadata": {},
   "outputs": [
    {
     "name": "stdout",
     "output_type": "stream",
     "text": [
      "Введите коэффициент a:1\n",
      "Введите коэффициент b:5\n",
      "Введите коэффициент c:6\n",
      "[-2.0, -3.0]\n"
     ]
    }
   ],
   "source": [
    "a = float(input(\"Введите коэффициент a:\"))\n",
    "if a == 0:   # проверка, что a не равно нулю\n",
    "    print(\"коэффициент a не может быть равен нулю!\")\n",
    "else:\n",
    "    b = float(input(\"Введите коэффициент b:\"))\n",
    "    c = float(input(\"Введите коэффициент c:\"))\n",
    "    print(quadratic_equation(a, b, c))"
   ]
  },
  {
   "cell_type": "markdown",
   "id": "a8541146-f127-4482-b067-279d50975dac",
   "metadata": {},
   "source": [
    "## Task 2"
   ]
  },
  {
   "cell_type": "markdown",
   "id": "816c48be-0963-4bd6-bd86-c8172eb8968e",
   "metadata": {},
   "source": [
    "Функция, которая на вход принимает cписок случайных чисел, а возвращает уже отсортированный методом Пузырька по возрастанию."
   ]
  },
  {
   "cell_type": "code",
   "execution_count": 4,
   "id": "3fbaf6b3-876f-4ecf-9be6-d26181ee3a48",
   "metadata": {},
   "outputs": [],
   "source": [
    "def bubble_sort(lst):\n",
    "    for x in range(len(lst)):\n",
    "        for y in range(len(lst) - x - 1):\n",
    "            if lst[y] > lst[y + 1]:\n",
    "                lst[y], lst[y + 1] = lst[y + 1], lst[y]\n",
    "    return lst"
   ]
  },
  {
   "cell_type": "code",
   "execution_count": 5,
   "id": "733f7072",
   "metadata": {},
   "outputs": [
    {
     "name": "stdout",
     "output_type": "stream",
     "text": [
      "[33, 13, 82, 26, 89, 87, 9, 94, 15, 31, 1, 3, 5, 12, 73]\n",
      "[1, 3, 5, 9, 12, 13, 15, 26, 31, 33, 73, 82, 87, 89, 94]\n"
     ]
    }
   ],
   "source": [
    "import random\n",
    "\n",
    "numbers = random.sample(range(0, 100), 15)\n",
    "print(numbers)   # cписок случайных чисел\n",
    "print(bubble_sort(numbers))   # отсортированный cписок случайных чисел"
   ]
  },
  {
   "cell_type": "code",
   "execution_count": 6,
   "id": "0518b82b",
   "metadata": {},
   "outputs": [
    {
     "name": "stdout",
     "output_type": "stream",
     "text": [
      "[387, 320, 345, 519, 593, 886, 702, 220, 851, 175, 498, 951, 710, 234, 862]\n",
      "[175, 220, 234, 320, 345, 387, 498, 519, 593, 702, 710, 851, 862, 886, 951]\n"
     ]
    }
   ],
   "source": [
    "import random\n",
    "\n",
    "numbers = random.sample(range(0, 1000), 15)\n",
    "print(numbers)   # cписок случайных чисел\n",
    "print(bubble_sort(numbers))   # отсортированный cписок случайных чисел"
   ]
  },
  {
   "cell_type": "markdown",
   "id": "0026496c-03a8-4fcc-907b-dfb8f3fc0efb",
   "metadata": {},
   "source": [
    "## Task 3"
   ]
  },
  {
   "cell_type": "markdown",
   "id": "688251be-39a3-49ed-9993-a5f9b39f430d",
   "metadata": {},
   "source": [
    "Самое часто встречающееся слово в романе \"Война и Мир\" без учета:\n",
    "   * Пунктуации\n",
    "   * Слов **короче четырех** символов \n",
    "   * 'Стоп-слов', которые приведены в файле в stop_words_russian.txt\n",
    "   \n",
    ">Для решения задачи достаточно использовать стандартные библиотеки Python. \\\n",
    "\n",
    ">Обязательно поделись с пирами в rocket-chat сколько раз у тебя встретилось это слово. Результаты, в зависимости от предобработки, могут чуть отличаться."
   ]
  },
  {
   "cell_type": "code",
   "execution_count": 7,
   "id": "94501d71-ee88-4f78-808d-20e79a5f3707",
   "metadata": {},
   "outputs": [
    {
     "name": "stdout",
     "output_type": "stream",
     "text": [
      "пьер\n"
     ]
    }
   ],
   "source": [
    "with open('..\\datasets\\war_and_peace.txt', 'r', encoding='utf-8') as f:\n",
    "    t = f.read().lower()\n",
    "\n",
    "#создаём множество stop-слов\n",
    "with open('..\\datasets\\stop_words_russian.txt', 'r', encoding='utf-8') as f:\n",
    "    stop_words = set(f.read().lower().split())\n",
    "\n",
    "#создаём список правильных слов\n",
    "words = [w.strip('.,…:;!?№&$@%#*_+-–—~=/\\\\\\'^`\"“„«»<>(){}[]|') for w in t.split() if len(w) >= 4 and w not in stop_words]\n",
    "\n",
    "#создаём словарь, содержащий частоту каждого правильного слова в тексте\n",
    "word_freq = {}\n",
    "for word in words:\n",
    "    word_freq[word] = word_freq.get(word, 0) + 1\n",
    "\n",
    "#наиболее часто встречающееся слово\n",
    "word_freq_max = max(word_freq, key=word_freq.get)\n",
    "\n",
    "print(word_freq_max)"
   ]
  },
  {
   "cell_type": "code",
   "execution_count": 8,
   "id": "6cd1e268",
   "metadata": {},
   "outputs": [
    {
     "name": "stdout",
     "output_type": "stream",
     "text": [
      "Самое часто встречающееся слово в романе \"Война и Мир\": пьер\n",
      "слово встречается 1401 раз\n"
     ]
    }
   ],
   "source": [
    "print('Самое часто встречающееся слово в романе \"Война и Мир\":', word_freq_max)\n",
    "print('слово встречается', word_freq[word_freq_max], 'раз')"
   ]
  },
  {
   "cell_type": "markdown",
   "id": "d4b6f922-7a22-4b38-8529-c92994edd38c",
   "metadata": {},
   "source": [
    "## Task 4"
   ]
  },
  {
   "cell_type": "markdown",
   "id": "c2cef602-ab87-47f8-ab2c-e323442b62f7",
   "metadata": {},
   "source": [
    "Функция для расчета числа Фибоначчи с использованием рекурсивной функции."
   ]
  },
  {
   "cell_type": "code",
   "execution_count": 9,
   "id": "ec1c1860-774d-4583-a44b-bdc30492eead",
   "metadata": {},
   "outputs": [
    {
     "name": "stdout",
     "output_type": "stream",
     "text": [
      "13\n"
     ]
    }
   ],
   "source": [
    "def fib(n):\n",
    "    if n <= 1:\n",
    "        return n\n",
    "    else:\n",
    "        return fib(n-1) + fib(n-2)\n",
    "\n",
    "print(fib(7))"
   ]
  },
  {
   "cell_type": "code",
   "execution_count": 10,
   "id": "f6053385",
   "metadata": {},
   "outputs": [
    {
     "name": "stdout",
     "output_type": "stream",
     "text": [
      "Введите число:8\n",
      "21\n"
     ]
    }
   ],
   "source": [
    "print(fib(int(input(\"Введите число:\"))))"
   ]
  },
  {
   "cell_type": "markdown",
   "id": "1acc3069-4b1a-4a5c-98e4-055731203d2d",
   "metadata": {},
   "source": [
    "## Task 5"
   ]
  },
  {
   "cell_type": "markdown",
   "id": "944e804e-fb40-4ea2-b931-38b595d3c262",
   "metadata": {},
   "source": [
    "Функция перевода валюты в рубли."
   ]
  },
  {
   "cell_type": "code",
   "execution_count": 11,
   "id": "570cfb71-5cf0-41fc-aae7-cf2b2812eaca",
   "metadata": {},
   "outputs": [],
   "source": [
    "import requests\n",
    "\n",
    "def convert2RU(currency, value):\n",
    "    url = \"https://www.cbr-xml-daily.ru/daily_json.js\"\n",
    "    response = requests.get(url)\n",
    "    data = response.json()\n",
    "    valute = data['Valute'].get(currency)\n",
    "    if valute:\n",
    "        rate = valute['Value']\n",
    "        rub_amount = round(value * rate, 2)\n",
    "        return rub_amount\n",
    "    else:\n",
    "        return None"
   ]
  },
  {
   "cell_type": "code",
   "execution_count": 12,
   "id": "33840958",
   "metadata": {},
   "outputs": [
    {
     "name": "stdout",
     "output_type": "stream",
     "text": [
      "8837.12\n"
     ]
    }
   ],
   "source": [
    "print(convert2RU('EUR', 100))"
   ]
  },
  {
   "cell_type": "code",
   "execution_count": 13,
   "id": "ec0e6f2a",
   "metadata": {},
   "outputs": [
    {
     "name": "stdout",
     "output_type": "stream",
     "text": [
      "8050.93\n"
     ]
    }
   ],
   "source": [
    "print(convert2RU('USD', 100))"
   ]
  },
  {
   "cell_type": "code",
   "execution_count": 14,
   "id": "e6e1c8a8",
   "metadata": {},
   "outputs": [
    {
     "name": "stdout",
     "output_type": "stream",
     "text": [
      "10058.83\n"
     ]
    }
   ],
   "source": [
    "print(convert2RU('GBP', 100))"
   ]
  },
  {
   "cell_type": "markdown",
   "id": "fe1396fa-7109-48ad-a255-4d4f622c18a4",
   "metadata": {},
   "source": [
    "## *Task 6. Дополнительное задание"
   ]
  },
  {
   "cell_type": "markdown",
   "id": "71315701-39bd-4759-afd9-7bf20486b4f7",
   "metadata": {},
   "source": [
    "Написание проверки на пaлиндром."
   ]
  },
  {
   "cell_type": "markdown",
   "id": "715fd45b-eb76-4eb5-bbd8-a257035fe892",
   "metadata": {},
   "source": [
    "1. На вход функции _isPalindrome_ подается **число** (int). \\\n",
    "Функция возвращает **True**, если число является палидромом и **False** в противном случае. "
   ]
  },
  {
   "cell_type": "code",
   "execution_count": 15,
   "id": "9f48d9c7-c413-47fb-b692-ce5ad8ed9ec1",
   "metadata": {},
   "outputs": [],
   "source": [
    "def isPalindrome(x: int) -> bool:\n",
    "    s = str(x)\n",
    "    if s == s[::-1]:\n",
    "        return True\n",
    "    else:\n",
    "        return False"
   ]
  },
  {
   "cell_type": "code",
   "execution_count": 16,
   "id": "5f2f1571",
   "metadata": {},
   "outputs": [
    {
     "name": "stdout",
     "output_type": "stream",
     "text": [
      "True\n"
     ]
    }
   ],
   "source": [
    "print(isPalindrome(121))"
   ]
  },
  {
   "cell_type": "code",
   "execution_count": 17,
   "id": "c7d74b69",
   "metadata": {},
   "outputs": [
    {
     "name": "stdout",
     "output_type": "stream",
     "text": [
      "False\n"
     ]
    }
   ],
   "source": [
    "print(isPalindrome(123))"
   ]
  },
  {
   "cell_type": "code",
   "execution_count": 18,
   "id": "239a14d7",
   "metadata": {},
   "outputs": [
    {
     "name": "stdout",
     "output_type": "stream",
     "text": [
      "True\n"
     ]
    }
   ],
   "source": [
    "print(isPalindrome(12321))"
   ]
  },
  {
   "cell_type": "code",
   "execution_count": 19,
   "id": "4c4155c4",
   "metadata": {},
   "outputs": [
    {
     "name": "stdout",
     "output_type": "stream",
     "text": [
      "True\n"
     ]
    }
   ],
   "source": [
    "print(isPalindrome(123321))"
   ]
  },
  {
   "cell_type": "code",
   "execution_count": 20,
   "id": "83e1c475",
   "metadata": {},
   "outputs": [
    {
     "name": "stdout",
     "output_type": "stream",
     "text": [
      "Введите число:789\n",
      "False\n"
     ]
    }
   ],
   "source": [
    "print(isPalindrome(int(input(\"Введите число:\"))))"
   ]
  },
  {
   "cell_type": "markdown",
   "id": "e86f6f7c-c3b0-4b92-bb3d-651dcc7d4706",
   "metadata": {},
   "source": [
    "2. Реализация функции без использования перевода числа в строку."
   ]
  },
  {
   "cell_type": "code",
   "execution_count": 21,
   "id": "35cf92fa-04c6-489b-9523-99d78dce4ba1",
   "metadata": {},
   "outputs": [],
   "source": [
    "def isPalindrome_v2(x: int) -> bool:\n",
    "    a, b = x, 0\n",
    "    f = lambda: (b * 10) + a % 10   # функция будет добавлять переменной 'b' в конце цифру из переменной 'a'\n",
    "    while a > 0:\n",
    "        a, b = a // 10, f()   # убираем из 'a' последнюю цифру, добавляя её в переменную 'b'\n",
    "    # 'b' содержит цифры в обратном порядке \n",
    "    return b == x"
   ]
  },
  {
   "cell_type": "code",
   "execution_count": 22,
   "id": "ff1f934b",
   "metadata": {},
   "outputs": [
    {
     "name": "stdout",
     "output_type": "stream",
     "text": [
      "True\n"
     ]
    }
   ],
   "source": [
    "print(isPalindrome_v2(121))"
   ]
  },
  {
   "cell_type": "code",
   "execution_count": 23,
   "id": "4cb9c182",
   "metadata": {},
   "outputs": [
    {
     "name": "stdout",
     "output_type": "stream",
     "text": [
      "False\n"
     ]
    }
   ],
   "source": [
    "print(isPalindrome_v2(123))"
   ]
  },
  {
   "cell_type": "code",
   "execution_count": 24,
   "id": "392d0d73",
   "metadata": {},
   "outputs": [
    {
     "name": "stdout",
     "output_type": "stream",
     "text": [
      "True\n"
     ]
    }
   ],
   "source": [
    "print(isPalindrome_v2(12321))"
   ]
  },
  {
   "cell_type": "code",
   "execution_count": 25,
   "id": "f66ae5ed",
   "metadata": {},
   "outputs": [
    {
     "name": "stdout",
     "output_type": "stream",
     "text": [
      "True\n"
     ]
    }
   ],
   "source": [
    "print(isPalindrome_v2(123321))"
   ]
  },
  {
   "cell_type": "code",
   "execution_count": 26,
   "id": "45db7fea",
   "metadata": {},
   "outputs": [
    {
     "name": "stdout",
     "output_type": "stream",
     "text": [
      "Введите число:987\n",
      "False\n"
     ]
    }
   ],
   "source": [
    "print(isPalindrome_v2(int(input(\"Введите число:\"))))"
   ]
  }
 ],
 "metadata": {
  "kernelspec": {
   "display_name": "Python 3 (ipykernel)",
   "language": "python",
   "name": "python3"
  },
  "language_info": {
   "codemirror_mode": {
    "name": "ipython",
    "version": 3
   },
   "file_extension": ".py",
   "mimetype": "text/x-python",
   "name": "python",
   "nbconvert_exporter": "python",
   "pygments_lexer": "ipython3",
   "version": "3.10.9"
  }
 },
 "nbformat": 4,
 "nbformat_minor": 5
}
